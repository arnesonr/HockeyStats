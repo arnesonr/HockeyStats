{
 "cells": [
  {
   "cell_type": "code",
   "execution_count": 23,
   "metadata": {},
   "outputs": [],
   "source": [
    "%matplotlib inline\n",
    "import pandas as pd\n",
    "import numpy as np\n",
    "import seaborn as sns\n",
    "import matplotlib.pyplot as plt\n",
    "from sklearn.cluster import KMeans\n",
    "from sklearn import preprocessing\n",
    "from mpl_toolkits.mplot3d import Axes3D\n",
    "from IPython.core.display import HTML"
   ]
  },
  {
   "cell_type": "code",
   "execution_count": 2,
   "metadata": {},
   "outputs": [],
   "source": [
    "# set up plotting colors\n",
    "sns.set(rc={'axes.facecolor'   : '#202020', \n",
    "            'axes.labelcolor'  : '#e0e0e0',\n",
    "            'axes.edgecolor'   : '#e0e0e0',\n",
    "            'axes.grid'        :  False,\n",
    "            'text.color'       : '#e0e0e0', \n",
    "            'figure.facecolor' : '#202020',\n",
    "            'figure.edgecolor' : '#202020',\n",
    "            'xtick.color'      : '#e0e0e0',\n",
    "            'ytick.color'      : '#e0e0e0',\n",
    "            'legend.fancybox'  : 'true'\n",
    "           })\n",
    "\n",
    "octal_seq = [sns.hls_palette(12, 0, .5, .5)[i] for i in [0,1,2,4,7,9]]\n",
    "octal_cat = [sns.hls_palette(12, 0, .5, .5)[i] for i in [7,1,4,0,9,2]]\n",
    "octal_unity = [sns.hls_palette(12, 0, .5, .5)[i] for i in [4]]\n",
    "sns.set_palette(octal_cat)"
   ]
  },
  {
   "cell_type": "code",
   "execution_count": 3,
   "metadata": {},
   "outputs": [],
   "source": [
    "df = pd.DataFrame()\n",
    "for yr in range(2015,2018):\n",
    "    temp_df = pd.read_csv('./data/skaters_season{year}.csv'.format(year=yr),header=1)\n",
    "    temp_df['year'] = yr\n",
    "    df = df.append(temp_df, ignore_index=True)"
   ]
  },
  {
   "cell_type": "code",
   "execution_count": 4,
   "metadata": {},
   "outputs": [],
   "source": [
    "# convert all column headers to lowercase\n",
    "for col in df.columns:\n",
    "    df.rename(columns={col:str(col).lower()}, inplace=True)\n",
    "    \n",
    "df['player'] = df['player'].apply(lambda l: str.split(l,'\\\\')[0])\n",
    "#df['pos'] = df['pos'].apply(lambda l: str(l).lower())\n",
    "#df['tm'] = df['tm'].apply(lambda l: str(l).lower())"
   ]
  },
  {
   "cell_type": "code",
   "execution_count": 5,
   "metadata": {},
   "outputs": [],
   "source": [
    "# fix special teams stats column names\n",
    "df.rename(columns={'ev':'evg'}, inplace=True)\n",
    "df.rename(columns={'pp':'ppg'}, inplace=True)\n",
    "df.rename(columns={'sh':'shg'}, inplace=True)\n",
    "\n",
    "df.rename(columns={'ev.1':'eva'}, inplace=True)\n",
    "df.rename(columns={'pp.1':'ppa'}, inplace=True)\n",
    "df.rename(columns={'sh.1':'sha'}, inplace=True)\n",
    "\n",
    "# define the respective points\n",
    "df['evp'] = df['evg'] + df['eva']\n",
    "df['ppp'] = df['ppg'] + df['ppa']\n",
    "df['shp'] = df['shg'] + df['sha']\n",
    "\n",
    "# drop team, age, yearly shooting percentage, average time on ice, faceoff %, and year\n",
    "df = df.drop(['tm', 'age', 's%', 'atoi', 'fo%', 'year'], axis=1)"
   ]
  },
  {
   "cell_type": "code",
   "execution_count": 6,
   "metadata": {},
   "outputs": [
    {
     "data": {
      "text/plain": [
       "Index([u'player', u'pos', u'gp', u'g', u'a', u'pts', u'+/-', u'pim', u'ps',\n",
       "       u'evg', u'ppg', u'shg', u'gw', u'eva', u'ppa', u'sha', u's', u'toi',\n",
       "       u'blk', u'hit', u'fow', u'fol', u'evp', u'ppp', u'shp'],\n",
       "      dtype='object')"
      ]
     },
     "execution_count": 6,
     "metadata": {},
     "output_type": "execute_result"
    }
   ],
   "source": [
    "df.columns"
   ]
  },
  {
   "cell_type": "code",
   "execution_count": 7,
   "metadata": {},
   "outputs": [],
   "source": [
    "# group positions by forward/defense\n",
    "df['fd'] = df['pos'].apply(lambda l: 'd' if l=='D' else 'f' )\n",
    "df = df.drop('pos', axis=1)"
   ]
  },
  {
   "cell_type": "code",
   "execution_count": 8,
   "metadata": {},
   "outputs": [],
   "source": [
    "# get totals across all years\n",
    "idx = ['player', 'fd']\n",
    "data = [df.groupby(idx)['gp'].sum().index]\n",
    "\n",
    "for stat in df.drop(idx, axis=1).columns.values:\n",
    "    data.append(df.groupby(idx)[stat].sum())\n",
    "    \n",
    "col_labels = ['name, pos'] + list(df.drop(idx, axis=1).columns.values)\n",
    "grouped_df = pd.DataFrame(np.array(data).transpose(), columns=col_labels)\n",
    "\n",
    "grouped_df['name'] = grouped_df['name, pos'].apply(lambda l: l[0])\n",
    "grouped_df['pos'] = grouped_df['name, pos'].apply(lambda l: l[1])"
   ]
  },
  {
   "cell_type": "code",
   "execution_count": 9,
   "metadata": {},
   "outputs": [],
   "source": [
    "# drop name,pos and make name, pos first\n",
    "grouped_df = grouped_df[['name', 'pos'] + list(df.drop(idx, axis=1).columns.values)]"
   ]
  },
  {
   "cell_type": "code",
   "execution_count": 10,
   "metadata": {},
   "outputs": [],
   "source": [
    "# define a minimum number of minutes played\n",
    "# drop all nas\n",
    "grouped_df = grouped_df.dropna()\n",
    "grouped_df = grouped_df[grouped_df.toi > 500]"
   ]
  },
  {
   "cell_type": "code",
   "execution_count": 11,
   "metadata": {},
   "outputs": [],
   "source": [
    "# define average time on ice, shooting percentage, face off % over the three seasons\n",
    "grouped_df['atoi'] = grouped_df.toi / grouped_df.gp\n",
    "grouped_df['s%'] = 100 * grouped_df.g / (grouped_df.s)\n",
    "# add a small number to avoid dividing by zero, it won't significantly change fo%\n",
    "grouped_df['fo%'] = (grouped_df.fow.divide(grouped_df.fol + grouped_df.fow + 1E-8)).fillna(0)"
   ]
  },
  {
   "cell_type": "code",
   "execution_count": 12,
   "metadata": {},
   "outputs": [],
   "source": [
    "# per-game/minute averages\n",
    "cum_stats = ['g', 'a', 'pts', '+/-', 'pim', 'evg', 'ppg', 'shg', 'eva', 'ppa', 'sha', 's', 'blk', 'hit', 'evp', 'ppp', 'shp']\n",
    "for stat in cum_stats:\n",
    "    grouped_df[str(stat)+'/g'] = grouped_df[stat] / grouped_df.gp\n",
    "    grouped_df[str(stat)+'/min'] = grouped_df[stat] / grouped_df.toi"
   ]
  },
  {
   "cell_type": "code",
   "execution_count": 13,
   "metadata": {},
   "outputs": [],
   "source": [
    "# percent of points that are goals\n",
    "grouped_df['g/p'] = 100 * grouped_df['g'] / (grouped_df['pts'])\n",
    "\n",
    "# percent of goals on powerplays \n",
    "# add one to avoid dividing by zero, ppg is 0 when g is 0\n",
    "grouped_df['ppg%'] = 100 * (grouped_df['ppg'] / (grouped_df['g']+1))\n",
    "\n",
    "# percent of points on powerplays \n",
    "# add one to avoid dividing by zero, ppg is 0 when g is 0\n",
    "grouped_df['ppp%'] = 100 * (grouped_df['ppp'] / (grouped_df['pts']+1))"
   ]
  },
  {
   "cell_type": "code",
   "execution_count": 14,
   "metadata": {},
   "outputs": [],
   "source": [
    "for stat in list(grouped_df.columns.values)[2:]:\n",
    "        grouped_df[stat] = grouped_df[stat].astype(float)"
   ]
  },
  {
   "cell_type": "code",
   "execution_count": 15,
   "metadata": {},
   "outputs": [],
   "source": [
    "# seperate the forwards and defensemen\n",
    "forwards = grouped_df[grouped_df.pos=='f'].drop('pos', axis=1)\n",
    "defense = grouped_df[grouped_df.pos=='d'].drop('pos', axis=1)"
   ]
  },
  {
   "cell_type": "code",
   "execution_count": 16,
   "metadata": {},
   "outputs": [
    {
     "data": {
      "text/plain": [
       "<matplotlib.axes._subplots.AxesSubplot at 0x11161b8d0>"
      ]
     },
     "execution_count": 16,
     "metadata": {},
     "output_type": "execute_result"
    },
    {
     "data": {
      "image/png": "[encoded data removed]",
      "text/plain": [
       "<matplotlib.figure.Figure at 0x10bdb86d0>"
      ]
     },
     "metadata": {},
     "output_type": "display_data"
    }
   ],
   "source": [
    "# pick stats to cluster forwards by\n",
    "#first visualize how the /min stats are correlated\n",
    "corr = grouped_df[grouped_df.columns[27:]].corr()\n",
    "sns.heatmap(corr, xticklabels=corr.columns.values, yticklabels=corr.columns.values)"
   ]
  },
  {
   "cell_type": "code",
   "execution_count": 17,
   "metadata": {},
   "outputs": [],
   "source": [
    "cluster_stats = ['fo%', 'g/min', 'a/min', 's/min', 'hit/min', 'blk/min', 'pim/min', 'g/p']"
   ]
  },
  {
   "cell_type": "code",
   "execution_count": 18,
   "metadata": {},
   "outputs": [
    {
     "data": {
      "text/plain": [
       "KMeans(algorithm='auto', copy_x=True, init='k-means++', max_iter=300,\n",
       "    n_clusters=6, n_init=100, n_jobs=1, precompute_distances='auto',\n",
       "    random_state=None, tol=0.0001, verbose=0)"
      ]
     },
     "execution_count": 18,
     "metadata": {},
     "output_type": "execute_result"
    }
   ],
   "source": [
    "# cluster\n",
    "k_means = KMeans(init='k-means++', n_clusters=6, n_init=100)\n",
    "k_means.fit(preprocessing.scale(forwards[cluster_stats]))"
   ]
  },
  {
   "cell_type": "code",
   "execution_count": 19,
   "metadata": {},
   "outputs": [
    {
     "name": "stdout",
     "output_type": "stream",
     "text": [
      "\n",
      "K-Means Clustering of NHL Forwards:\n",
      "\n",
      "('Group:', 0)\n",
      "Stat       Value  Rank\n",
      "fo%     :  -0.01  (4/6)\n",
      "g/min   :   1.66  (1/6)\n",
      "a/min   :   0.85  (2/6)\n",
      "s/min   :   1.51  (1/6)\n",
      "hit/min :  -0.75  (5/6)\n",
      "blk/min :  -0.51  (5/6)\n",
      "pim/min :  -0.65  (5/6)\n",
      "g/p     :   0.58  (2/6)\n",
      "\n",
      "Typical players:\n",
      "('-', 'Patrick Kane')\n",
      "('-', 'John Tavares')\n",
      "('-', 'Sidney Crosby')\n",
      "('-', 'Evander Kane')\n",
      "('-', 'Blake Wheeler')\n",
      "--------------------\n",
      "\n",
      "('Group:', 1)\n",
      "Stat       Value  Rank\n",
      "fo%     :   0.53  (1/6)\n",
      "g/min   :  -0.97  (5/6)\n",
      "a/min   :  -0.53  (5/6)\n",
      "s/min   :  -0.84  (6/6)\n",
      "hit/min :  -0.04  (3/6)\n",
      "blk/min :   1.13  (1/6)\n",
      "pim/min :  -0.46  (3/6)\n",
      "g/p     :  -0.63  (5/6)\n",
      "\n",
      "Typical players:\n",
      "('-', 'Antoine Vermette')\n",
      "('-', 'Cody Eakin')\n",
      "('-', 'Nick Bonino')\n",
      "('-', 'Matt Read')\n",
      "('-', 'Curtis Glencross')\n",
      "--------------------\n",
      "\n",
      "('Group:', 2)\n",
      "Stat       Value  Rank\n",
      "fo%     :   0.42  (3/6)\n",
      "g/min   :   0.17  (3/6)\n",
      "a/min   :  -0.48  (4/6)\n",
      "s/min   :   0.01  (3/6)\n",
      "hit/min :   0.30  (2/6)\n",
      "blk/min :   0.16  (3/6)\n",
      "pim/min :  -0.45  (2/6)\n",
      "g/p     :   0.86  (1/6)\n",
      "\n",
      "Typical players:\n",
      "('-', 'Adam Henrique')\n",
      "('-', 'Andrew Ladd')\n",
      "('-', 'David Backes')\n",
      "('-', 'Brandon Sutter')\n",
      "('-', 'Justin Abdelkader')\n",
      "--------------------\n",
      "\n",
      "('Group:', 3)\n",
      "Stat       Value  Rank\n",
      "fo%     :   0.50  (2/6)\n",
      "g/min   :   0.23  (2/6)\n",
      "a/min   :   1.15  (1/6)\n",
      "s/min   :  -0.00  (4/6)\n",
      "hit/min :  -0.94  (6/6)\n",
      "blk/min :  -0.46  (4/6)\n",
      "pim/min :  -0.76  (6/6)\n",
      "g/p     :  -0.69  (6/6)\n",
      "\n",
      "Typical players:\n",
      "('-', \"Ryan O'Reilly\")\n",
      "('-', 'Anze Kopitar')\n",
      "('-', 'Connor McDavid')\n",
      "('-', 'Ryan Getzlaf')\n",
      "('-', 'Ryan Kesler')\n",
      "--------------------\n",
      "\n",
      "('Group:', 4)\n",
      "Stat       Value  Rank\n",
      "fo%     :  -1.20  (6/6)\n",
      "g/min   :  -0.10  (4/6)\n",
      "a/min   :  -0.17  (3/6)\n",
      "s/min   :   0.14  (2/6)\n",
      "hit/min :  -0.53  (4/6)\n",
      "blk/min :  -0.55  (6/6)\n",
      "pim/min :  -0.63  (4/6)\n",
      "g/p     :   0.15  (3/6)\n",
      "\n",
      "Typical players:\n",
      "('-', 'Reilly Smith')\n",
      "('-', 'Tobias Rieder')\n",
      "('-', 'Tyler Ennis')\n",
      "('-', 'Nikolaj Ehlers')\n",
      "('-', 'Mikkel Boedker')\n",
      "--------------------\n",
      "\n",
      "('Group:', 5)\n",
      "Stat       Value  Rank\n",
      "fo%     :  -0.23  (5/6)\n",
      "g/min   :  -0.99  (6/6)\n",
      "a/min   :  -0.81  (6/6)\n",
      "s/min   :  -0.81  (5/6)\n",
      "hit/min :   1.97  (1/6)\n",
      "blk/min :   0.23  (2/6)\n",
      "pim/min :   2.95  (1/6)\n",
      "g/p     :  -0.26  (4/6)\n",
      "\n",
      "Typical players:\n",
      "('-', 'Zack Kassian')\n",
      "('-', 'Tom Wilson')\n",
      "('-', 'Derek Dorsett')\n",
      "('-', 'Steve Downie')\n",
      "('-', 'Steve Ott')\n",
      "--------------------\n",
      "\n"
     ]
    }
   ],
   "source": [
    "# add cluster to df\n",
    "forwards['cluster'] = k_means.labels_\n",
    "\n",
    "# get cluster centroids\n",
    "centers = k_means.cluster_centers_\n",
    "center_df = pd.DataFrame(centers, columns=cluster_stats)\n",
    "\n",
    "# get the mean values for each stat\n",
    "means = []\n",
    "for col in range(centers.shape[1]):\n",
    "    means.append(centers[:,col].mean())\n",
    "\n",
    "# find values relative to mean\n",
    "rel_values = centers - np.array(means)\n",
    "rel_df = pd.DataFrame(rel_values, columns=cluster_stats)\n",
    "\n",
    "# print results\n",
    "print(\"\\nK-Means Clustering of NHL Forwards:\\n\")\n",
    "for i in range(0,len(forwards.cluster.value_counts())):\n",
    "    print('Group:', i)\n",
    "    print('{stat:11}{val:7}{rank}'.format(stat='Stat', val='Value', rank='Rank'))\n",
    "    for j in range(len(cluster_stats)):\n",
    "        print('{stat:8}: {val:6.2f}  ({rank:.0f}/{of})'.format(stat=cluster_stats[j],\n",
    "                                         rank=rel_df.rank(ascending=False).iloc[i].values[j],\n",
    "                                         val=rel_df.iloc[i].values[j],\n",
    "                                         of=len(rel_df)))\n",
    "    print('\\nTypical players:')\n",
    "    for j in range(5):\n",
    "        print('-',forwards[forwards.cluster==i].sort_values(by='atoi', ascending=False)['name'].head().values[j])\n",
    "    print('--------------------\\n')"
   ]
  },
  {
   "cell_type": "markdown",
   "metadata": {},
   "source": [
    "From experience watching hockey, these groups are very representative.\n",
    "\n",
    "I would call these groups:\n",
    "-  Shut down players, faceoff specialist\n",
    "-  Playmakers\n",
    "-  Goal Scorers\n",
    "-  Checkers\n",
    "-  Power Forwards\n",
    "-  Utility, two-way players"
   ]
  },
  {
   "cell_type": "code",
   "execution_count": 20,
   "metadata": {},
   "outputs": [],
   "source": [
    "# now for the defensemen\n",
    "cluster_stats = ['g/min', 'a/min', 's/min', 'hit/min', 'blk/min', 'pim/min', '+/-/min', 'ppp/min']"
   ]
  },
  {
   "cell_type": "code",
   "execution_count": 21,
   "metadata": {},
   "outputs": [
    {
     "data": {
      "text/plain": [
       "KMeans(algorithm='auto', copy_x=True, init='k-means++', max_iter=300,\n",
       "    n_clusters=4, n_init=100, n_jobs=1, precompute_distances='auto',\n",
       "    random_state=None, tol=0.0001, verbose=0)"
      ]
     },
     "execution_count": 21,
     "metadata": {},
     "output_type": "execute_result"
    }
   ],
   "source": [
    "# Try 4 clusters\n",
    "k_means = KMeans(init='k-means++', n_clusters=4, n_init=100)\n",
    "k_means.fit(preprocessing.scale(defense[cluster_stats]))"
   ]
  },
  {
   "cell_type": "code",
   "execution_count": 22,
   "metadata": {},
   "outputs": [
    {
     "name": "stdout",
     "output_type": "stream",
     "text": [
      "\n",
      "K-Means Clustering of NHL Defensemen:\n",
      "\n",
      "('Group:', 0)\n",
      "Stat       Value  Rank\n",
      "g/min   :  -0.90  (4/4)\n",
      "a/min   :  -0.92  (4/4)\n",
      "s/min   :  -0.79  (3/4)\n",
      "hit/min :   1.40  (1/4)\n",
      "blk/min :   0.41  (2/4)\n",
      "pim/min :   1.20  (1/4)\n",
      "+/-/min :  -0.33  (4/4)\n",
      "ppp/min :  -1.03  (4/4)\n",
      "\n",
      "Typical players:\n",
      "('-', 'Alexei Emelin')\n",
      "('-', 'Robyn Regehr')\n",
      "('-', 'Kevin Bieksa')\n",
      "('-', 'Brooks Orpik')\n",
      "('-', 'Erik Gudbranson')\n",
      "--------------------\n",
      "\n",
      "('Group:', 1)\n",
      "Stat       Value  Rank\n",
      "g/min   :  -0.73  (3/4)\n",
      "a/min   :  -0.74  (3/4)\n",
      "s/min   :  -0.85  (4/4)\n",
      "hit/min :  -0.26  (2/4)\n",
      "blk/min :   0.57  (1/4)\n",
      "pim/min :  -0.45  (4/4)\n",
      "+/-/min :   0.09  (2/4)\n",
      "ppp/min :  -0.86  (3/4)\n",
      "\n",
      "Typical players:\n",
      "('-', 'Francois Beauchemin')\n",
      "('-', 'Andy Greene')\n",
      "('-', 'Kris Russell')\n",
      "('-', 'Jay Bouwmeester')\n",
      "('-', 'Jaccob Slavin')\n",
      "--------------------\n",
      "\n",
      "('Group:', 2)\n",
      "Stat       Value  Rank\n",
      "g/min   :   0.11  (2/4)\n",
      "a/min   :   0.14  (2/4)\n",
      "s/min   :   0.36  (2/4)\n",
      "hit/min :  -0.43  (3/4)\n",
      "blk/min :  -0.42  (3/4)\n",
      "pim/min :  -0.37  (2/4)\n",
      "+/-/min :   0.08  (3/4)\n",
      "ppp/min :   0.10  (2/4)\n",
      "\n",
      "Typical players:\n",
      "('-', 'Ryan Suter')\n",
      "('-', 'Alex Pietrangelo')\n",
      "('-', 'T.J. Brodie')\n",
      "('-', 'Alexander Edler')\n",
      "('-', 'Rasmus Ristolainen')\n",
      "--------------------\n",
      "\n",
      "('Group:', 3)\n",
      "Stat       Value  Rank\n",
      "g/min   :   1.52  (1/4)\n",
      "a/min   :   1.53  (1/4)\n",
      "s/min   :   1.28  (1/4)\n",
      "hit/min :  -0.71  (4/4)\n",
      "blk/min :  -0.55  (4/4)\n",
      "pim/min :  -0.38  (3/4)\n",
      "+/-/min :   0.16  (1/4)\n",
      "ppp/min :   1.78  (1/4)\n",
      "\n",
      "Typical players:\n",
      "('-', 'Drew Doughty')\n",
      "('-', 'Erik Karlsson')\n",
      "('-', 'Kris Letang')\n",
      "('-', 'P.K. Subban')\n",
      "('-', 'Roman Josi')\n",
      "--------------------\n",
      "\n"
     ]
    }
   ],
   "source": [
    "# add cluster to df\n",
    "defense['cluster'] = k_means.labels_\n",
    "\n",
    "# get cluster centroids\n",
    "centers = k_means.cluster_centers_\n",
    "center_df = pd.DataFrame(centers, columns=cluster_stats)\n",
    "\n",
    "# get the mean values for each stat\n",
    "means = []\n",
    "for col in range(centers.shape[1]):\n",
    "    means.append(centers[:,col].mean())\n",
    "\n",
    "# find values relative to mean\n",
    "rel_values = centers - np.array(means)\n",
    "rel_df = pd.DataFrame(rel_values, columns=cluster_stats)\n",
    "\n",
    "# print results\n",
    "print(\"\\nK-Means Clustering of NHL Defensemen:\\n\")\n",
    "for i in range(0,len(defense.cluster.value_counts())):\n",
    "    print('Group:', i)\n",
    "    print('{stat:11}{val:7}{rank}'.format(stat='Stat', val='Value', rank='Rank'))\n",
    "    for j in range(len(cluster_stats)):\n",
    "        print('{stat:8}: {val:6.2f}  ({rank:.0f}/{of})'.format(stat=cluster_stats[j],\n",
    "                                         rank=rel_df.rank(ascending=False).iloc[i].values[j],\n",
    "                                         val=rel_df.iloc[i].values[j],\n",
    "                                         of=len(rel_df)))\n",
    "    print('\\nTypical players:')\n",
    "    for j in range(5):\n",
    "        print('-',defense[defense.cluster==i].sort_values(by='atoi', ascending=False)['name'].head().values[j])\n",
    "    print('--------------------\\n')"
   ]
  },
  {
   "cell_type": "markdown",
   "metadata": {},
   "source": [
    "It's a little more difficult to seperate defensemen as there aren't as many of them and their styles are similar, but I would call these groups:\n",
    "-  Second pairing defensemen\n",
    "-  Top pairing, powerplay quarterbacks\n",
    "-  Physical, stay at home defensemen\n",
    "-  Puck movers, offensive"
   ]
  },
  {
   "cell_type": "markdown",
   "metadata": {},
   "source": [
    "#### This is a good start but I'd like to try using advanced possesion statistics like Corsi, Fenwick, and scoring chances.  It might also be intersting to compare these results with kNN, hierarchical clustering, or try using CH score/ Gap statistics to estimate the number of clusters"
   ]
  },
  {
   "cell_type": "code",
   "execution_count": null,
   "metadata": {},
   "outputs": [],
   "source": []
  }
 ],
 "metadata": {
  "kernelspec": {
   "display_name": "Python 2",
   "language": "python",
   "name": "python2"
  },
  "language_info": {
   "codemirror_mode": {
    "name": "ipython",
    "version": 2
   },
   "file_extension": ".py",
   "mimetype": "text/x-python",
   "name": "python",
   "nbconvert_exporter": "python",
   "pygments_lexer": "ipython2",
   "version": "2.7.14"
  }
 },
 "nbformat": 4,
 "nbformat_minor": 2
}
